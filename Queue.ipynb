{
 "cells": [
  {
   "cell_type": "markdown",
   "id": "0c71ef24-376c-41e6-a3dd-93d6c5536cee",
   "metadata": {},
   "source": [
    "# Queue Data Structure Implementation in Python"
   ]
  },
  {
   "cell_type": "code",
   "execution_count": 14,
   "id": "157d92a2-1294-4617-9404-ff295df59fa0",
   "metadata": {},
   "outputs": [
    {
     "name": "stdout",
     "output_type": "stream",
     "text": [
      "[1, 2, 3, 4, 5]\n",
      "[3, 4, 5, 6]\n",
      "4\n"
     ]
    }
   ],
   "source": [
    "class Queue:\n",
    "    \n",
    "    def __init__(self):\n",
    "        self.queue = []\n",
    "\n",
    "    # Add an element to the queue\n",
    "    def enqueue(self, element):\n",
    "        self.queue.append(element)\n",
    "    # Remove an element from the queue\n",
    "    def dequeue(self):\n",
    "        self.queue.pop(0)\n",
    "    # Checking size of the queue\n",
    "    def size(self):\n",
    "        print(len(self.queue))\n",
    "    # Print queue elements\n",
    "    def display(self):\n",
    "        print(self.queue)\n",
    "\n",
    "# Adding elements in the queue\n",
    "q1 = Queue()\n",
    "q1.enqueue(1)\n",
    "q1.enqueue(2)\n",
    "q1.enqueue(3)\n",
    "q1.enqueue(4)\n",
    "q1.enqueue(5)\n",
    "q1.display()\n",
    "\n",
    "# Removing elements from the queue\n",
    "q1.dequeue()\n",
    "q1.dequeue()\n",
    "q1.enqueue(6)\n",
    "q1.display()\n",
    "q1.size()\n",
    "\n",
    "\n",
    "    \n",
    "    "
   ]
  },
  {
   "cell_type": "code",
   "execution_count": null,
   "id": "997c8785-dc4d-4e77-9443-37998991cb74",
   "metadata": {},
   "outputs": [],
   "source": []
  }
 ],
 "metadata": {
  "kernelspec": {
   "display_name": "Python 3 (ipykernel)",
   "language": "python",
   "name": "python3"
  },
  "language_info": {
   "codemirror_mode": {
    "name": "ipython",
    "version": 3
   },
   "file_extension": ".py",
   "mimetype": "text/x-python",
   "name": "python",
   "nbconvert_exporter": "python",
   "pygments_lexer": "ipython3",
   "version": "3.10.12"
  }
 },
 "nbformat": 4,
 "nbformat_minor": 5
}
