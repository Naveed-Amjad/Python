{
 "cells": [
  {
   "cell_type": "markdown",
   "id": "1a410dff-9cee-44d5-9609-f325b6803939",
   "metadata": {},
   "source": [
    "# Stack Data Structure implementation in Python"
   ]
  },
  {
   "cell_type": "code",
   "execution_count": 11,
   "id": "3c7104e7-3ac7-402d-8670-80f9fb9109f2",
   "metadata": {},
   "outputs": [
    {
     "name": "stdout",
     "output_type": "stream",
     "text": [
      "Stack is already empty\n",
      "[]\n"
     ]
    }
   ],
   "source": [
    "class Stack:\n",
    "    def __init__(self):\n",
    "        self.stack = []\n",
    "        \n",
    "    # check is empty or not\n",
    "    def isEmpty(self):\n",
    "        print(\"Stack is Empty\" if len(self.stack) == 0 else \"Stack is not Empty\")\n",
    "        \n",
    "    # Push element into stack\n",
    "    def push(self, element):\n",
    "        self.stack.append(element)\n",
    "        \n",
    "    # Pop method\n",
    "    def pop(self):\n",
    "        if len(self.stack) > 0:\n",
    "            self.stack.pop()    \n",
    "        else:\n",
    "            print(\"Stack is already empty\")\n",
    "        \n",
    "    # size of the stack\n",
    "    def size(self):\n",
    "        print(len(self.stack))\n",
    "        \n",
    "    # Print stack elements\n",
    "    def display(self):\n",
    "        print(self.stack)\n",
    "\n",
    "# testing\n",
    "s1 = Stack()\n",
    "# s1.isEmpty()\n",
    "# s1.push(1)\n",
    "# s1.push(2)\n",
    "# s1.push(3)\n",
    "# s1.push(4)\n",
    "# s1.push(5)\n",
    "\n",
    "s1.pop()\n",
    "\n",
    "# s1.push(6)\n",
    "\n",
    "s1.display()"
   ]
  }
 ],
 "metadata": {
  "kernelspec": {
   "display_name": "Python 3 (ipykernel)",
   "language": "python",
   "name": "python3"
  },
  "language_info": {
   "codemirror_mode": {
    "name": "ipython",
    "version": 3
   },
   "file_extension": ".py",
   "mimetype": "text/x-python",
   "name": "python",
   "nbconvert_exporter": "python",
   "pygments_lexer": "ipython3",
   "version": "3.10.12"
  }
 },
 "nbformat": 4,
 "nbformat_minor": 5
}
